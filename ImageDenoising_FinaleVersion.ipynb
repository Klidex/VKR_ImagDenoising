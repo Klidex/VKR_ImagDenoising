{
 "cells": [
  {
   "cell_type": "code",
   "execution_count": 5,
   "id": "8205d0b7",
   "metadata": {},
   "outputs": [
    {
     "name": "stdout",
     "output_type": "stream",
     "text": [
      "4.11.0\n"
     ]
    }
   ],
   "source": [
    "import matplotlib.pyplot as plt\n",
    "import cv2\n",
    "import numpy as np\n",
    "import time\n",
    "import psutil\n",
    "print(cv2.__version__)"
   ]
  },
  {
   "cell_type": "code",
   "execution_count": 6,
   "id": "7ac946b5",
   "metadata": {},
   "outputs": [
    {
     "data": {
      "text/plain": [
       "(1707, 2560, 3)"
      ]
     },
     "execution_count": 6,
     "metadata": {},
     "output_type": "execute_result"
    }
   ],
   "source": [
    "def add_gaussian_noise(image, mean=0, sigma=25): \n",
    "    noise = np.random.normal(mean, sigma, image.shape).astype(np.int16)\n",
    "    noisy_image = np.clip(image.astype(np.int16) + noise, 0, 255).astype(np.uint8)\n",
    "    return noisy_image\n",
    "\n",
    "def add_salt_and_pepper_noise(image, noise_ratio=0.02):\n",
    "    noisy_image = image.copy()\n",
    "    h, w, c = noisy_image.shape\n",
    "    noisy_pixels = int(h * w * noise_ratio)\n",
    " \n",
    "    for _ in range(noisy_pixels):\n",
    "        row, col = np.random.randint(0, h), np.random.randint(0, w)\n",
    "        if np.random.rand() < 0.5:\n",
    "            noisy_image[row, col] = [0, 0, 0] \n",
    "        else:\n",
    "            noisy_image[row, col] = [255, 255, 255]\n",
    " \n",
    "    return noisy_image\n",
    "\n",
    "img_SU57_Standart = cv2.imread('SU57.jpg', cv2.IMREAD_COLOR)\n",
    "# numpy_img_SU57_Standart = np.array(img_SU57_Standart)\n",
    "img_SU57_Standart.shape"
   ]
  },
  {
   "cell_type": "code",
   "execution_count": 7,
   "id": "11435116",
   "metadata": {},
   "outputs": [
    {
     "data": {
      "text/plain": [
       "True"
      ]
     },
     "execution_count": 7,
     "metadata": {},
     "output_type": "execute_result"
    }
   ],
   "source": [
    "# создаем четыре зашумленных изображения: по два су57 и black_sqare_circle с импульсным и гауссовым шумами\n",
    "img_SU57_Impulse_Noise = add_salt_and_pepper_noise(img_SU57_Standart)\n",
    "img_SU57_Gaussian_Noise = add_gaussian_noise (img_SU57_Standart)\n",
    "cv2.imwrite('SU57_Impulse_Noise.jpg', img_SU57_Impulse_Noise)\n",
    "cv2.imwrite('SU57_Gaussian_Noise.jpg', img_SU57_Gaussian_Noise)"
   ]
  },
  {
   "cell_type": "code",
   "execution_count": 8,
   "id": "27ccf3f5",
   "metadata": {},
   "outputs": [
    {
     "data": {
      "text/plain": [
       "True"
      ]
     },
     "execution_count": 8,
     "metadata": {},
     "output_type": "execute_result"
    }
   ],
   "source": [
    "def gaussian_kernel(size, sigma=1):\n",
    "    #Создает ядро Гаусса заданного размера и сигмы.\n",
    "    kernel = np.fromfunction(\n",
    "        lambda x, y: (1 / (2 * np.pi * sigma ** 2)) * np.exp(-((x - (size - 1) / 2) ** 2 + (y - (size - 1) / 2) ** 2) / (2 * sigma ** 2)),\n",
    "        (size, size)\n",
    "    )\n",
    "    return kernel / np.sum(kernel)\n",
    "\n",
    "def apply_gaussian_blur_rgb(image, kernel_size=5, sigma=1):\n",
    "    kernel = gaussian_kernel(kernel_size, sigma)\n",
    "    blurred_image = np.zeros_like(image, dtype=float)\n",
    "\n",
    "    for channel in range(3):  # Предполагаем, что изображение имеет 3 канала (RGB)\n",
    "        image_padded = np.pad(image[..., channel], kernel_size//2, mode='reflect')\n",
    "        for i in range(image.shape[0]):\n",
    "            for j in range(image.shape[1]):\n",
    "                neighborhood = image_padded[i:i+kernel_size, j:j+kernel_size]\n",
    "                blurred_image[i, j, channel] = np.sum(neighborhood * kernel)\n",
    "\n",
    "    return np.clip(blurred_image, 0, 255).astype(np.uint8)\n",
    "\n",
    "img_SU57_Gaussian_Noise_GaussianFilter = apply_gaussian_blur_rgb (img_SU57_Gaussian_Noise, 5, 3)\n",
    "cv2.imwrite('SU57_Gaussian_Noise_GaussianFilter.jpg', img_SU57_Gaussian_Noise_GaussianFilter)\n",
    "\n",
    "img_SU57_Impulse_Noise_GaussianFilter = apply_gaussian_blur_rgb(img_SU57_Impulse_Noise, 5, 3)\n",
    "cv2.imwrite('SU57_Impulse_Noise_GaussianFilter.jpg', img_SU57_Impulse_Noise_GaussianFilter)"
   ]
  },
  {
   "cell_type": "code",
   "execution_count": 9,
   "id": "2d56de85",
   "metadata": {},
   "outputs": [
    {
     "data": {
      "text/plain": [
       "True"
      ]
     },
     "execution_count": 9,
     "metadata": {},
     "output_type": "execute_result"
    }
   ],
   "source": [
    "def gaussian_kernel_1d(size, sigma):\n",
    "    \"\"\"Создает одномерное ядро Гаусса\"\"\"\n",
    "    ax = np.arange(-size//2 + 1, size//2 + 1)\n",
    "    kernel = np.exp(-0.5 * (ax**2) / (sigma**2))\n",
    "    return kernel / kernel.sum()\n",
    "\n",
    "def apply_fast_gaussian_blur_rgb(image, kernel_size=5, sigma=1):\n",
    "    \"\"\"Быстрое гауссово размытие через разделение ядра на два одномерных фильтра\"\"\"\n",
    "    kernel = gaussian_kernel_1d(kernel_size, sigma)\n",
    "    result = np.zeros_like(image, dtype=np.float64)\n",
    "    \n",
    "    # Добавляем отступы для обработки границ\n",
    "    pad = kernel_size // 2\n",
    "    padded = np.pad(image, ((pad, pad), (pad, pad), (0, 0)), mode='reflect')\n",
    "    \n",
    "    # Горизонтальная свертка\n",
    "    temp = np.zeros_like(padded, dtype=np.float64)\n",
    "    for channel in range(3):\n",
    "        for i in range(padded.shape[0]):\n",
    "            for j in range(pad, padded.shape[1] - pad):\n",
    "                neighborhood = padded[i, j - pad:j + pad + 1, channel]\n",
    "                temp[i, j, channel] = np.sum(neighborhood * kernel)\n",
    "    \n",
    "    # Вертикальная свертка\n",
    "    for channel in range(3):\n",
    "        for i in range(pad, padded.shape[0] - pad):\n",
    "            for j in range(pad, padded.shape[1] - pad):  \n",
    "                neighborhood = temp[i - pad:i + pad + 1, j, channel]\n",
    "                result[i - pad, j - pad, channel] = np.sum(neighborhood * kernel) \n",
    "    \n",
    "    return np.clip(result, 0, 255).astype(np.uint8)\n",
    "\n",
    "img_SU57_Gaussian_Noise_FastGaussian = apply_fast_gaussian_blur_rgb(img_SU57_Gaussian_Noise)\n",
    "cv2.imwrite('SU57_Gaussian_FastGaussian.jpg', img_SU57_Gaussian_Noise_FastGaussian)\n",
    "\n",
    "img_SU57_Impulse_Noise_FastGaussian = apply_fast_gaussian_blur_rgb(img_SU57_Impulse_Noise)\n",
    "cv2.imwrite('SU57_Impulse_FastGaussian.jpg', img_SU57_Impulse_Noise_FastGaussian)"
   ]
  },
  {
   "cell_type": "code",
   "execution_count": 10,
   "id": "c71ec102",
   "metadata": {},
   "outputs": [
    {
     "data": {
      "text/plain": [
       "True"
      ]
     },
     "execution_count": 10,
     "metadata": {},
     "output_type": "execute_result"
    }
   ],
   "source": [
    "def apply_average_filter_rgb(image, kernel_size=5):\n",
    "    average_filtered_image = np.zeros_like(image, dtype=np.uint8)\n",
    "\n",
    "    # Получаем половину размера ядра\n",
    "    half_kernel = kernel_size // 2\n",
    "\n",
    "    for channel in range(3): \n",
    "        for i in range(half_kernel, image.shape[0] - half_kernel):\n",
    "            for j in range(half_kernel, image.shape[1] - half_kernel):\n",
    "                # Извлекаем окрестность пикселя\n",
    "                neighborhood = image[i - half_kernel:i + half_kernel + 1,\n",
    "                                     j - half_kernel:j + half_kernel + 1,\n",
    "                                     channel]\n",
    "                # Вычисляем среднее значение и присваиваем его центральному пикселю\n",
    "                average_filtered_image[i, j, channel] = np.mean(neighborhood)\n",
    "\n",
    "    return average_filtered_image\n",
    "\n",
    "img_SU57_Gaussian_Noise_AverageFilter = apply_average_filter_rgb (img_SU57_Gaussian_Noise, 5)\n",
    "img_SU57_Impulse_Noise_AverageFilter = apply_average_filter_rgb(img_SU57_Impulse_Noise, 5)\n",
    "\n",
    "cv2.imwrite('SU57_Gaussian_Noise_AverageFilter.jpg', img_SU57_Gaussian_Noise_AverageFilter)\n",
    "cv2.imwrite('SU57_Impulse_Noise_AverageFilter.jpg', img_SU57_Impulse_Noise_AverageFilter)"
   ]
  },
  {
   "cell_type": "code",
   "execution_count": 11,
   "id": "fb9af3c0",
   "metadata": {},
   "outputs": [
    {
     "data": {
      "text/plain": [
       "True"
      ]
     },
     "execution_count": 11,
     "metadata": {},
     "output_type": "execute_result"
    }
   ],
   "source": [
    "def apply_median_filter_rgb(image, kernel_size=5):\n",
    "    median_filtered_image = np.zeros_like(image, dtype=np.uint8)\n",
    "\n",
    "    # Получаем половину размера ядра\n",
    "    half_kernel = kernel_size // 2\n",
    "\n",
    "    for channel in range(3): \n",
    "        for i in range(half_kernel, image.shape[0] - half_kernel):\n",
    "            for j in range(half_kernel, image.shape[1] - half_kernel):\n",
    "                # Извлекаем окрестность пикселя\n",
    "                neighborhood = image[i - half_kernel:i + half_kernel + 1,\n",
    "                                     j - half_kernel:j + half_kernel + 1,\n",
    "                                     channel]\n",
    "\n",
    "                # Вычисляем медиану и присваиваем её центральному пикселю\n",
    "                median_filtered_image[i, j, channel] = np.median(neighborhood)\n",
    "\n",
    "    return median_filtered_image\n",
    "\n",
    "img_SU57_Gaussian_Noise_MedianFilter = apply_median_filter_rgb (img_SU57_Gaussian_Noise, 5)\n",
    "img_SU57_Impulse_Noise_MedianFilter = apply_median_filter_rgb(img_SU57_Impulse_Noise, 5)\n",
    "\n",
    "cv2.imwrite('SU57_Gaussian_Noise_MedianFilter.jpg', img_SU57_Gaussian_Noise_MedianFilter)\n",
    "cv2.imwrite('SU57_Impulse_Noise_MedianFilter.jpg', img_SU57_Impulse_Noise_MedianFilter)"
   ]
  },
  {
   "cell_type": "code",
   "execution_count": 12,
   "id": "decb9b38",
   "metadata": {},
   "outputs": [
    {
     "data": {
      "text/plain": [
       "True"
      ]
     },
     "execution_count": 12,
     "metadata": {},
     "output_type": "execute_result"
    }
   ],
   "source": [
    "def apply_weighted_median_filter_rgb(image, weights=None, kernel_size=5):\n",
    "    \"\"\"\n",
    "    Применяет взвешенный медианный фильтр к каждому каналу изображения.\n",
    "    Веса определяют, сколько раз пиксель учитывается при вычислении медианы.\n",
    "    \"\"\"\n",
    "    filtered_image = np.zeros_like(image, dtype=np.uint8)\n",
    "    half_kernel = kernel_size // 2\n",
    "\n",
    "    # Если веса не заданы, используем однородные веса (эквивалент обычному медианному фильтру)\n",
    "    if weights is None:\n",
    "        weights = np.ones((kernel_size, kernel_size), dtype=int)\n",
    "    else:\n",
    "        weights = np.array(weights, dtype=int)\n",
    "\n",
    "    for channel in range(3):\n",
    "        for i in range(half_kernel, image.shape[0] - half_kernel):\n",
    "            for j in range(half_kernel, image.shape[1] - half_kernel):\n",
    "                # Извлекаем окрестность и соответствующие веса\n",
    "                neighborhood = image[i - half_kernel:i + half_kernel + 1,\n",
    "                                     j - half_kernel:j + half_kernel + 1,\n",
    "                                     channel]\n",
    "                current_weights = weights[:neighborhood.shape[0], :neighborhood.shape[1]]\n",
    "\n",
    "                # Создаем взвешенный список значений\n",
    "                weighted_values = []\n",
    "                for val, weight in zip(neighborhood.flatten(), current_weights.flatten()):\n",
    "                    weighted_values.extend([val] * weight)  # Дублируем значение по весу\n",
    "\n",
    "                # Вычисляем медиану\n",
    "                filtered_image[i, j, channel] = np.median(weighted_values)\n",
    "\n",
    "    return filtered_image\n",
    "\n",
    "# Взвешенный медианный фильтр с гауссовыми весами\n",
    "gaussian_weights = [\n",
    "    [1, 2, 1],\n",
    "    [2, 4, 2],\n",
    "    [1, 2, 1]\n",
    "]\n",
    "\n",
    "img_SU57_Gaussian_Noise_WMF = apply_weighted_median_filter_rgb(img_SU57_Gaussian_Noise, gaussian_weights)\n",
    "cv2.imwrite('SU57_Gaussian_WMF.jpg', img_SU57_Gaussian_Noise_WMF)\n",
    "\n",
    "img_SU57_Impulse_Noise_WMF = apply_weighted_median_filter_rgb(img_SU57_Impulse_Noise, gaussian_weights)\n",
    "cv2.imwrite('SU57_Impulse_WMF.jpg', img_SU57_Impulse_Noise_WMF)"
   ]
  },
  {
   "cell_type": "code",
   "execution_count": 13,
   "id": "4af918c3",
   "metadata": {},
   "outputs": [
    {
     "name": "stderr",
     "output_type": "stream",
     "text": [
      "C:\\Users\\xcd30\\AppData\\Local\\Temp\\ipykernel_21728\\1618028506.py:38: RuntimeWarning: overflow encountered in scalar subtract\n",
      "  B2 = Z_xy - Z_max\n"
     ]
    },
    {
     "data": {
      "text/plain": [
       "True"
      ]
     },
     "execution_count": 13,
     "metadata": {},
     "output_type": "execute_result"
    }
   ],
   "source": [
    "def apply_adaptive_median_filter_rgb(image, max_kernel_size=7):\n",
    "    \"\"\"\n",
    "    Применяет адаптивный медианный фильтр к цветному изображению (RGB).\n",
    "    \n",
    "    :param image: Входное изображение в формате numpy.ndarray.\n",
    "    :param max_kernel_size: Максимально допустимый размер ядра.\n",
    "    :return: Отфильтрованное изображение.\n",
    "    \"\"\"\n",
    "    filtered_image = np.zeros_like(image, dtype=np.uint8)\n",
    "\n",
    "    for channel in range(3):  # Обрабатываем каждый канал отдельно\n",
    "        padded_channel = np.pad(image[..., channel], max_kernel_size // 2, mode='edge')\n",
    "\n",
    "        for i in range(image.shape[0]):\n",
    "            for j in range(image.shape[1]):\n",
    "                kernel_size = 3  # Начинаем с минимального окна\n",
    "\n",
    "                while kernel_size <= max_kernel_size:\n",
    "                    half_k = kernel_size // 2\n",
    "                    i_pad = i + max_kernel_size // 2\n",
    "                    j_pad = j + max_kernel_size // 2\n",
    "\n",
    "                    # Извлекаем окрестность пикселя\n",
    "                    neighborhood = padded_channel[i_pad - half_k:i_pad + half_k + 1,\n",
    "                                                  j_pad - half_k:j_pad + half_k + 1]\n",
    "\n",
    "                    Z_min = np.min(neighborhood)\n",
    "                    Z_max = np.max(neighborhood)\n",
    "                    Z_med = np.median(neighborhood)\n",
    "                    Z_xy = padded_channel[i_pad, j_pad]\n",
    "\n",
    "                    A1 = Z_med - Z_min\n",
    "                    A2 = Z_med - Z_max\n",
    "\n",
    "                    if A1 > 0 and A2 < 0:\n",
    "                        # Уровень A: медиана — хороший кандидат\n",
    "                        B1 = Z_xy - Z_min\n",
    "                        B2 = Z_xy - Z_max\n",
    "                        if B1 > 0 and B2 < 0:\n",
    "                            # Пиксель не шумовой\n",
    "                            output = Z_xy\n",
    "                        else:\n",
    "                            # Пиксель шумовой — заменяем на медиану\n",
    "                            output = Z_med\n",
    "                        break\n",
    "                    else:\n",
    "                        # Увеличиваем размер окна\n",
    "                        kernel_size += 2\n",
    "                else:\n",
    "                    # Если максимальный размер достигнут — используем медиану\n",
    "                    output = Z_med\n",
    "\n",
    "                filtered_image[i, j, channel] = output\n",
    "\n",
    "    return filtered_image\n",
    "\n",
    "img_SU57_Gaussian_Noise_AMF = apply_adaptive_median_filter_rgb(img_SU57_Gaussian_Noise)\n",
    "cv2.imwrite('SU57_Gaussian_AMF.jpg', img_SU57_Gaussian_Noise_AMF)\n",
    "\n",
    "img_SU57_Impulse_Noise_AMF = apply_adaptive_median_filter_rgb(img_SU57_Impulse_Noise)\n",
    "cv2.imwrite('SU57_Impulse_AMF.jpg', img_SU57_Impulse_Noise_AMF) "
   ]
  },
  {
   "cell_type": "code",
   "execution_count": 14,
   "id": "5522b926",
   "metadata": {},
   "outputs": [
    {
     "data": {
      "text/plain": [
       "True"
      ]
     },
     "execution_count": 14,
     "metadata": {},
     "output_type": "execute_result"
    }
   ],
   "source": [
    "def apply_non_local_means_rgb(image, h=10, template_window_size=7, search_window_size=21):\n",
    "    if image.dtype != np.uint8:\n",
    "        raise ValueError(\"Ожидается изображение типа uint8.\")\n",
    "    if image.ndim != 3 or image.shape[2] != 3:\n",
    "        raise ValueError(\"Ожидается RGB-изображение.\")\n",
    "    \n",
    "    # BGR opencv в RGB\n",
    "    image_bgr = cv2.cvtColor(image, cv2.COLOR_RGB2BGR)\n",
    "\n",
    "    # Применяем встроенную реализацию OpenCV\n",
    "    denoised_bgr = cv2.fastNlMeansDenoisingColored(\n",
    "        image_bgr,\n",
    "        None,\n",
    "        h,                  # параметр фильтрации для цветовых каналов\n",
    "        hColor=h,           # параметр фильтрации для яркости\n",
    "        templateWindowSize=template_window_size,\n",
    "        searchWindowSize=search_window_size\n",
    "    )\n",
    "\n",
    "    # Возвращаем обратно в RGB\n",
    "    denoised_rgb = cv2.cvtColor(denoised_bgr, cv2.COLOR_BGR2RGB)\n",
    "\n",
    "    return denoised_rgb\n",
    "\n",
    "img_SU57_Gaussian_Noise_NLM = apply_non_local_means_rgb(img_SU57_Gaussian_Noise)\n",
    "cv2.imwrite('SU57_Gaussian_Noise_NLM.jpg', img_SU57_Gaussian_Noise_NLM)\n",
    "\n",
    "img_SU57_Impulse_Noise_NLM = apply_non_local_means_rgb(img_SU57_Impulse_Noise)\n",
    "cv2.imwrite('SU57_Impulse_Noise_NLM.jpg', img_SU57_Impulse_Noise_NLM)"
   ]
  },
  {
   "cell_type": "code",
   "execution_count": 15,
   "id": "ae645183",
   "metadata": {},
   "outputs": [
    {
     "data": {
      "text/plain": [
       "True"
      ]
     },
     "execution_count": 15,
     "metadata": {},
     "output_type": "execute_result"
    }
   ],
   "source": [
    "def apply_bilateral_filter_rgb(image, kernel_size=5, sigma_spatial=10.0, sigma_range=25.0):\n",
    "    if image.dtype != np.uint8:\n",
    "        raise ValueError(\"Ожидается изображение типа uint8.\")\n",
    "    if kernel_size % 2 == 0:\n",
    "        raise ValueError(\"Размер ядра должен быть нечетным.\")\n",
    "    \n",
    "    # Преобразуем в float\n",
    "    image = image.astype(np.float32)\n",
    "\n",
    "    # Половина ядра\n",
    "    half_k = kernel_size // 2\n",
    "\n",
    "    filtered_image = np.zeros_like(image)\n",
    "\n",
    "    # Создаем координатную сетку ядра\n",
    "    x, y = np.meshgrid(np.arange(-half_k, half_k + 1), np.arange(-half_k, half_k + 1))\n",
    "    spatial_weights = np.exp(-(x**2 + y**2) / (2 * sigma_spatial**2))\n",
    "\n",
    "    # Применяем фильтр к каждому каналу\n",
    "    for c in range(3):\n",
    "        for i in range(half_k, image.shape[0] - half_k):\n",
    "            for j in range(half_k, image.shape[1] - half_k):\n",
    "                # Окно вокруг пикселя\n",
    "                region = image[i - half_k:i + half_k + 1, j - half_k:j + half_k + 1, c]\n",
    "\n",
    "                # Цветовые (range) веса\n",
    "                center_val = image[i, j, c]\n",
    "                range_weights = np.exp(-((region - center_val) ** 2) / (2 * sigma_range**2))\n",
    "\n",
    "                # Общие билатеральные веса\n",
    "                weights = spatial_weights * range_weights\n",
    "\n",
    "                # Нормализация\n",
    "                weights_sum = np.sum(weights)\n",
    "                filtered_pixel = np.sum(region * weights) / weights_sum\n",
    "\n",
    "                filtered_image[i, j, c] = filtered_pixel\n",
    "\n",
    "    # Приводим обратно к uint8\n",
    "    return np.clip(filtered_image, 0, 255).astype(np.uint8)\n",
    "\n",
    "img_SU57_Gaussian_Noise_Bilateral = apply_bilateral_filter_rgb(img_SU57_Gaussian_Noise)\n",
    "cv2.imwrite('SU57_Gaussian_Noise_Bilateral.jpg', img_SU57_Gaussian_Noise_Bilateral)\n",
    "\n",
    "img_SU57_Impulse_Noise_Bilateral = apply_bilateral_filter_rgb(img_SU57_Impulse_Noise)\n",
    "cv2.imwrite('SU57_Impulse_Noise_Bilateral.jpg', img_SU57_Impulse_Noise_Bilateral)"
   ]
  }
 ],
 "metadata": {
  "kernelspec": {
   "display_name": "base",
   "language": "python",
   "name": "python3"
  },
  "language_info": {
   "codemirror_mode": {
    "name": "ipython",
    "version": 3
   },
   "file_extension": ".py",
   "mimetype": "text/x-python",
   "name": "python",
   "nbconvert_exporter": "python",
   "pygments_lexer": "ipython3",
   "version": "3.11.7"
  }
 },
 "nbformat": 4,
 "nbformat_minor": 5
}
